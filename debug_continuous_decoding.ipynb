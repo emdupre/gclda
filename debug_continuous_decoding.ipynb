{
 "cells": [
  {
   "cell_type": "markdown",
   "metadata": {},
   "source": [
    "# Debug continuous image decoding\n",
    "I noticed that the results of continuous image decoding looked odd, even though the ROI decoding looked good.\n",
    "\n",
    "Patterns I noticed from the results below:\n",
    "- pFgA, pFgA_given_pF=0.50, pAgF, and pAgF_given_pF=0.50 all return the most common terms (e.g., task, using, magnetic).\n",
    "- consistency_z also gives common terms, although a different set (e.g., motor, cerebellum, temporal).\n",
    "    - The bottom terms seem relevant for faces, emotion, and reward, but not visual.\n",
    "- specificity_z is a mixed bag:\n",
    "    - faces has relevant terms at its *lowest* weights\n",
    "    - emotion has some relevant terms (amygdala is highest; cingulate, negative) at highest weights\n",
    "    - reward has relevant terms at highest weights\n",
    "    - so does visual."
   ]
  },
  {
   "cell_type": "code",
   "execution_count": 1,
   "metadata": {
    "collapsed": true
   },
   "outputs": [],
   "source": [
    "from os import mkdir\n",
    "from os.path import join, isdir\n",
    "from shutil import rmtree\n",
    "\n",
    "import gclda\n",
    "import neurosynth\n",
    "import pandas as pd"
   ]
  },
  {
   "cell_type": "code",
   "execution_count": 2,
   "metadata": {
    "collapsed": false
   },
   "outputs": [],
   "source": [
    "# Use the current Neurosynth database (n=11406 studies, ~3k features)\n",
    "d = '/Users/tsalo/Desktop/ns-dataset/'\n",
    "d2 = '/Users/tsalo/Documents/tsalo/python_gclda/examples/gclda_results/20170728/'\n",
    "dset = neurosynth.Dataset.load(join(d, 'updated_dataset.pkl'))\n",
    "\n",
    "# Load GC-LDA model trained on current Neurosynth database\n",
    "# (1000 iterations, 400 topics, 2 symmetric subregions per topic) \n",
    "model = gclda.Model.load(join(d2, 'model.pkl'))\n",
    "decoder = gclda.Decoder(model)\n",
    "\n",
    "names = ['faces', 'emotion', 'reward', 'vision']\n",
    "terms = ['face* | facia*', 'emo*', 'reward*', 'visua* | visio*']"
   ]
  },
  {
   "cell_type": "code",
   "execution_count": 3,
   "metadata": {
    "collapsed": false
   },
   "outputs": [
    {
     "name": "stderr",
     "output_type": "stream",
     "text": [
      "Generating LALR tables\n",
      "WARNING: 15 shift/reduce conflicts\n"
     ]
    },
    {
     "name": "stdout",
     "output_type": "stream",
     "text": [
      "faces: 1180 studies\n"
     ]
    },
    {
     "name": "stderr",
     "output_type": "stream",
     "text": [
      "/Users/tsalo/Documents/tsalo/neurosynth/neurosynth/analysis/meta.py:134: RuntimeWarning: invalid value encountered in divide\n",
      "  pFgA = pAgF * pF / pA\n",
      "/Users/tsalo/Documents/tsalo/neurosynth/neurosynth/analysis/meta.py:139: RuntimeWarning: invalid value encountered in divide\n",
      "  pFgA_prior = pAgF * prior / pAgF_prior\n",
      "Generating LALR tables\n",
      "WARNING: 15 shift/reduce conflicts\n"
     ]
    },
    {
     "name": "stdout",
     "output_type": "stream",
     "text": [
      "emotion: 1690 studies\n"
     ]
    },
    {
     "name": "stderr",
     "output_type": "stream",
     "text": [
      "Generating LALR tables\n",
      "WARNING: 15 shift/reduce conflicts\n"
     ]
    },
    {
     "name": "stdout",
     "output_type": "stream",
     "text": [
      "reward: 719 studies\n"
     ]
    },
    {
     "name": "stderr",
     "output_type": "stream",
     "text": [
      "Generating LALR tables\n",
      "WARNING: 15 shift/reduce conflicts\n"
     ]
    },
    {
     "name": "stdout",
     "output_type": "stream",
     "text": [
      "vision: 2719 studies\n"
     ]
    }
   ],
   "source": [
    "# Run meta-analyses\n",
    "if isdir('temp'):\n",
    "    rmtree('temp/')\n",
    "mkdir('temp')\n",
    "for i, term in enumerate(terms):\n",
    "    name = names[i]\n",
    "    ids = dset.get_studies(expression=term)\n",
    "    print('{0}: {1} studies'.format(name, len(ids)))\n",
    "    ma = neurosynth.meta.MetaAnalysis(dset, ids)\n",
    "    ma.save_results('temp', name)"
   ]
  },
  {
   "cell_type": "markdown",
   "metadata": {},
   "source": [
    "## Decode reverse inference z-values"
   ]
  },
  {
   "cell_type": "code",
   "execution_count": 4,
   "metadata": {
    "collapsed": false
   },
   "outputs": [
    {
     "name": "stdout",
     "output_type": "stream",
     "text": [
      "Top terms:\n",
      "         faces    Weight        emotion    Weight         reward    Weight  \\\n",
      "0        motor  0.058412       amygdala  0.048428         reward  0.076418   \n",
      "1     parietal  0.058229       temporal  0.031527     prefrontal  0.060080   \n",
      "2         task  0.029451         medial  0.029453       striatum  0.058641   \n",
      "3         hand  0.026893     prefrontal  0.029044      cingulate  0.052994   \n",
      "4  performance  0.025487       anterior  0.026216       amygdala  0.052688   \n",
      "5      network  0.024093      cingulate  0.018783  orbitofrontal  0.046582   \n",
      "6    cognitive  0.022602       negative  0.016749      responses  0.045162   \n",
      "7      control  0.020652      responses  0.016541       anterior  0.044982   \n",
      "8    movements  0.018363  orbitofrontal  0.015805         medial  0.041469   \n",
      "9    cingulate  0.018286         social  0.015560        ventral  0.041440   \n",
      "\n",
      "        vision    Weight  \n",
      "0       visual  0.075171  \n",
      "1         task  0.038792  \n",
      "2     parietal  0.027326  \n",
      "3    occipital  0.023506  \n",
      "4         face  0.021952  \n",
      "5      spatial  0.018765  \n",
      "6       motion  0.017460  \n",
      "7   perception  0.017038  \n",
      "8  information  0.016642  \n",
      "9        gyrus  0.016542  \n",
      "\n",
      "Bottom terms:\n",
      "           faces    Weight      emotion    Weight      reward    Weight  \\\n",
      "2475    amygdala -0.065877     parietal -0.027503    parietal -0.053883   \n",
      "2474    temporal -0.062764        motor -0.026695    temporal -0.052048   \n",
      "2473        face -0.061541         task -0.024157      visual -0.050755   \n",
      "2472      visual -0.050803  performance -0.013893       motor -0.048869   \n",
      "2471       faces -0.044700         hand -0.011649        task -0.031932   \n",
      "2470    fusiform -0.032116       visual -0.011067    superior -0.025704   \n",
      "2469  perception -0.024489   cerebellum -0.010015       gyrus -0.024620   \n",
      "2468    semantic -0.024102    attention -0.009841  cerebellum -0.023303   \n",
      "2467     stimuli -0.023288      spatial -0.008698   posterior -0.022139   \n",
      "2466   occipital -0.019762     premotor -0.008134        hand -0.020579   \n",
      "\n",
      "             vision    Weight  \n",
      "2475     prefrontal -0.023872  \n",
      "2474       anterior -0.016679  \n",
      "2473      cingulate -0.015945  \n",
      "2472         medial -0.010607  \n",
      "2471       amygdala -0.010272  \n",
      "2470         insula -0.007994  \n",
      "2469       negative -0.007664  \n",
      "2468  orbitofrontal -0.007451  \n",
      "2467         social -0.007351  \n",
      "2466         reward -0.007120  \n"
     ]
    }
   ],
   "source": [
    "dfs = []\n",
    "for i, name in enumerate(names):\n",
    "    meta_file = 'temp/{0}_specificity_z.nii.gz'.format(name)\n",
    "    results = decoder.decode_continuous(meta_file)\n",
    "    results = results.sort_values(by=['Weight'], ascending=False)\n",
    "    results[name] = results.index\n",
    "    results = results[[name, 'Weight']].reset_index(drop=True)\n",
    "    dfs.append(results)\n",
    "df = pd.concat(dfs, axis=1)\n",
    "print('Top terms:')\n",
    "print df.head(10)\n",
    "\n",
    "print('\\nBottom terms:')\n",
    "df = df.reindex(index=df.index[::-1])\n",
    "print df.head(10)"
   ]
  },
  {
   "cell_type": "markdown",
   "metadata": {},
   "source": [
    "## Decode forward inference z-values"
   ]
  },
  {
   "cell_type": "code",
   "execution_count": 5,
   "metadata": {
    "collapsed": false
   },
   "outputs": [
    {
     "name": "stdout",
     "output_type": "stream",
     "text": [
      "Top terms:\n",
      "          faces    Weight     emotion    Weight       reward    Weight  \\\n",
      "0         motor  6.642553       motor  1.613512     temporal  2.746502   \n",
      "1    cerebellum  6.366671  cerebellum  1.586536   cerebellum  2.725885   \n",
      "2    cerebellar  5.821531  cerebellar  1.428512        motor  2.676280   \n",
      "3  connectivity  2.565251      memory  0.557191   cerebellar  2.523600   \n",
      "4          hand  2.544607        hand  0.552967       memory  1.294360   \n",
      "5     cognitive  2.475645     working  0.475088       visual  1.064248   \n",
      "6    prefrontal  2.435233      verbal  0.448191         hand  0.923396   \n",
      "7       healthy  2.146209   brainstem  0.442665      working  0.905417   \n",
      "8     brainstem  2.056085   movements  0.425790  information  0.851446   \n",
      "9      movement  1.999678    movement  0.421088    cognitive  0.844035   \n",
      "\n",
      "       vision    Weight  \n",
      "0        task  8.333492  \n",
      "1      visual  8.000651  \n",
      "2    parietal  4.661911  \n",
      "3     stimuli  3.073305  \n",
      "4       gyrus  2.904892  \n",
      "5    response  2.361238  \n",
      "6    inferior  2.318252  \n",
      "7   occipital  2.266817  \n",
      "8  perception  2.135042  \n",
      "9        face  2.100859  \n",
      "\n",
      "Bottom terms:\n",
      "           faces    Weight    emotion    Weight     reward    Weight  \\\n",
      "2475    amygdala -8.445598   amygdala -2.067172     reward -3.206477   \n",
      "2474      visual -7.482790  responses -1.052137  responses -2.482442   \n",
      "2473        face -6.001643    stimuli -0.996120   amygdala -2.461547   \n",
      "2472     stimuli -5.946414    frontal -0.933698   striatum -2.206248   \n",
      "2471        task -5.727429     insula -0.919259  cingulate -2.025936   \n",
      "2470       faces -4.355116   response -0.718623    ventral -2.016423   \n",
      "2469   responses -3.994242  cingulate -0.705431    stimuli -1.880538   \n",
      "2468       gyrus -3.801360   anterior -0.665410   anterior -1.614856   \n",
      "2467    fusiform -3.474979       task -0.640810   response -1.567906   \n",
      "2466  perception -3.254011      gyrus -0.577474     insula -1.558319   \n",
      "\n",
      "            vision    Weight  \n",
      "2475    cerebellum -4.248624  \n",
      "2474    cerebellar -4.136655  \n",
      "2473    prefrontal -3.526950  \n",
      "2472  connectivity -2.585047  \n",
      "2471        medial -2.515756  \n",
      "2470       healthy -2.240403  \n",
      "2469        social -2.219069  \n",
      "2468         motor -2.126085  \n",
      "2467      negative -1.972822  \n",
      "2466      anterior -1.937394  \n"
     ]
    }
   ],
   "source": [
    "dfs = []\n",
    "for i, name in enumerate(names):\n",
    "    meta_file = 'temp/{0}_consistency_z.nii.gz'.format(name)\n",
    "    results = decoder.decode_continuous(meta_file)\n",
    "    results = results.sort_values(by=['Weight'], ascending=False)\n",
    "    results[name] = results.index\n",
    "    results = results[[name, 'Weight']].reset_index(drop=True)\n",
    "    dfs.append(results)\n",
    "df = pd.concat(dfs, axis=1)\n",
    "print('Top terms:')\n",
    "print df.head(10)\n",
    "\n",
    "print('\\nBottom terms:')\n",
    "df = df.reindex(index=df.index[::-1])\n",
    "print df.head(10)"
   ]
  },
  {
   "cell_type": "markdown",
   "metadata": {},
   "source": [
    "## Decode reverse inference conditional probabilities"
   ]
  },
  {
   "cell_type": "code",
   "execution_count": 6,
   "metadata": {
    "collapsed": false
   },
   "outputs": [
    {
     "name": "stdout",
     "output_type": "stream",
     "text": [
      "Top terms:\n",
      "        faces    Weight     emotion    Weight      reward    Weight  \\\n",
      "0        task  0.008815        task  0.008119        task  0.008391   \n",
      "1    temporal  0.008667    temporal  0.007869  prefrontal  0.007659   \n",
      "2       using  0.006775  prefrontal  0.007206       using  0.006571   \n",
      "3  prefrontal  0.006210       using  0.006800    magnetic  0.006249   \n",
      "4      visual  0.006191    magnetic  0.006299   resonance  0.006150   \n",
      "5    magnetic  0.006012   resonance  0.006072    temporal  0.005471   \n",
      "6   resonance  0.005873    anterior  0.005430    anterior  0.005292   \n",
      "7      memory  0.005536     frontal  0.005251     control  0.005121   \n",
      "8     frontal  0.004952     network  0.005102     frontal  0.005015   \n",
      "9     network  0.004870      memory  0.005091    response  0.004987   \n",
      "\n",
      "       vision    Weight  \n",
      "0        task  0.009956  \n",
      "1      visual  0.007265  \n",
      "2    temporal  0.006840  \n",
      "3       using  0.006560  \n",
      "4    magnetic  0.006147  \n",
      "5   resonance  0.005984  \n",
      "6    parietal  0.005689  \n",
      "7       motor  0.005555  \n",
      "8  prefrontal  0.005440  \n",
      "9      memory  0.005115  \n",
      "\n",
      "Bottom terms:\n",
      "            faces        Weight      emotion    Weight       reward    Weight  \\\n",
      "2475  periodicals  7.641779e-07  periodicals  0.000001  periodicals  0.000001   \n",
      "2474         2014  1.907894e-06         2014  0.000002         2014  0.000002   \n",
      "2473        wiley  6.253665e-06        wiley  0.000006        wiley  0.000005   \n",
      "2472         mapp  1.175808e-05         mapp  0.000010         mapp  0.000009   \n",
      "2471          hum  2.327195e-05          hum  0.000020          hum  0.000018   \n",
      "2470    temporale  3.878585e-05    temporale  0.000039    temporale  0.000028   \n",
      "2469  opercularis  3.891163e-05  opercularis  0.000041       heschl  0.000032   \n",
      "2468   mesolimbic  3.974649e-05       proper  0.000042       planum  0.000035   \n",
      "2467       proper  4.077817e-05       heschl  0.000044  opercularis  0.000036   \n",
      "2466     pallidus  4.128033e-05     speaking  0.000044     speaking  0.000037   \n",
      "\n",
      "           vision        Weight  \n",
      "2475  periodicals  5.968591e-07  \n",
      "2474         2014  1.254141e-06  \n",
      "2473        wiley  5.853184e-06  \n",
      "2472         mapp  1.068702e-05  \n",
      "2471          hum  2.178053e-05  \n",
      "2470   mesolimbic  2.951440e-05  \n",
      "2469       proper  4.185779e-05  \n",
      "2468     pallidus  4.292449e-05  \n",
      "2467       globus  4.309931e-05  \n",
      "2466  opercularis  4.322885e-05  \n"
     ]
    }
   ],
   "source": [
    "dfs = []\n",
    "for i, name in enumerate(names):\n",
    "    meta_file = 'temp/{0}_pFgA.nii.gz'.format(name)\n",
    "    results = decoder.decode_continuous(meta_file)\n",
    "    results = results.sort_values(by=['Weight'], ascending=False)\n",
    "    results[name] = results.index\n",
    "    results = results[[name, 'Weight']].reset_index(drop=True)\n",
    "    dfs.append(results)\n",
    "df = pd.concat(dfs, axis=1)\n",
    "print('Top terms:')\n",
    "print df.head(10)\n",
    "\n",
    "print('\\nBottom terms:')\n",
    "df = df.reindex(index=df.index[::-1])\n",
    "print df.head(10)"
   ]
  },
  {
   "cell_type": "markdown",
   "metadata": {},
   "source": [
    "## Decode forward inference conditional probabilities"
   ]
  },
  {
   "cell_type": "code",
   "execution_count": 7,
   "metadata": {
    "collapsed": false
   },
   "outputs": [
    {
     "name": "stdout",
     "output_type": "stream",
     "text": [
      "Top terms:\n",
      "        faces    Weight     emotion    Weight      reward    Weight  \\\n",
      "0        task  0.010526        task  0.009765        task  0.010037   \n",
      "1    temporal  0.007372    temporal  0.006899  prefrontal  0.006997   \n",
      "2      visual  0.007120  prefrontal  0.006663    magnetic  0.006297   \n",
      "3       using  0.006347       using  0.006310   resonance  0.006281   \n",
      "4    magnetic  0.006195    magnetic  0.006292       using  0.006188   \n",
      "5   resonance  0.006137   resonance  0.006181    response  0.005828   \n",
      "6  prefrontal  0.005740     frontal  0.006083    anterior  0.005739   \n",
      "7     frontal  0.005714    response  0.005602     frontal  0.005703   \n",
      "8    response  0.005615    anterior  0.005403     control  0.005336   \n",
      "9       gyrus  0.005260     network  0.005300   responses  0.005061   \n",
      "\n",
      "      vision    Weight  \n",
      "0       task  0.011901  \n",
      "1     visual  0.007939  \n",
      "2   parietal  0.006625  \n",
      "3   temporal  0.006268  \n",
      "4   magnetic  0.006172  \n",
      "5      using  0.006139  \n",
      "6  resonance  0.006079  \n",
      "7    frontal  0.005789  \n",
      "8   response  0.005603  \n",
      "9    network  0.005317  \n",
      "\n",
      "Bottom terms:\n",
      "                       faces    Weight                 emotion    Weight  \\\n",
      "2475             periodicals  0.000001             periodicals  0.000002   \n",
      "2474                    2014  0.000003                    2014  0.000004   \n",
      "2473                   wiley  0.000006                   wiley  0.000005   \n",
      "2472                    mapp  0.000012                    mapp  0.000010   \n",
      "2471                     hum  0.000024                     hum  0.000021   \n",
      "2470            tractography  0.000034  electroencephalography  0.000035   \n",
      "2469  electroencephalography  0.000034            tractography  0.000037   \n",
      "2468                    erps  0.000034                    erps  0.000037   \n",
      "2467             transporter  0.000038             transporter  0.000041   \n",
      "2466                   scalp  0.000039                   scalp  0.000041   \n",
      "\n",
      "                      reward    Weight                  vision        Weight  \n",
      "2475             periodicals  0.000002             periodicals  7.613963e-07  \n",
      "2474                    2014  0.000003                    2014  2.068743e-06  \n",
      "2473                   wiley  0.000005                   wiley  5.380624e-06  \n",
      "2472                    mapp  0.000009                    mapp  1.074898e-05  \n",
      "2471                     hum  0.000018                     hum  2.273363e-05  \n",
      "2470               temporale  0.000040            tractography  3.318622e-05  \n",
      "2469                  heschl  0.000040  electroencephalography  3.336514e-05  \n",
      "2468            tractography  0.000040                    erps  3.368287e-05  \n",
      "2467  electroencephalography  0.000041             transporter  3.468936e-05  \n",
      "2466                    erps  0.000044                  choose  3.873742e-05  \n"
     ]
    }
   ],
   "source": [
    "dfs = []\n",
    "for i, name in enumerate(names):\n",
    "    meta_file = 'temp/{0}_pAgF.nii.gz'.format(name)\n",
    "    results = decoder.decode_continuous(meta_file)\n",
    "    results = results.sort_values(by=['Weight'], ascending=False)\n",
    "    results[name] = results.index\n",
    "    results = results[[name, 'Weight']].reset_index(drop=True)\n",
    "    dfs.append(results)\n",
    "df = pd.concat(dfs, axis=1)\n",
    "print('Top terms:')\n",
    "print df.head(10)\n",
    "\n",
    "print('\\nBottom terms:')\n",
    "df = df.reindex(index=df.index[::-1])\n",
    "print df.head(10)"
   ]
  },
  {
   "cell_type": "markdown",
   "metadata": {},
   "source": [
    "## Decode reverse inference posterior probabilities (with uniform prior)"
   ]
  },
  {
   "cell_type": "code",
   "execution_count": 8,
   "metadata": {
    "collapsed": false
   },
   "outputs": [
    {
     "name": "stdout",
     "output_type": "stream",
     "text": [
      "Top terms:\n",
      "        faces    Weight     emotion    Weight      reward    Weight  \\\n",
      "0        task  0.008976        task  0.008547        task  0.008908   \n",
      "1    temporal  0.007790    temporal  0.007426  prefrontal  0.007110   \n",
      "2       using  0.006676  prefrontal  0.006854       using  0.006583   \n",
      "3  prefrontal  0.006381       using  0.006730    magnetic  0.006183   \n",
      "4    magnetic  0.006053    magnetic  0.006245    temporal  0.006042   \n",
      "5   resonance  0.005904   resonance  0.006039   resonance  0.006041   \n",
      "6      visual  0.005749     frontal  0.005230     frontal  0.005212   \n",
      "7      memory  0.005362      memory  0.005173     control  0.005178   \n",
      "8     frontal  0.005098     network  0.005133      memory  0.005110   \n",
      "9     network  0.005027       motor  0.005093       motor  0.005107   \n",
      "\n",
      "       vision    Weight  \n",
      "0        task  0.009657  \n",
      "1    temporal  0.006834  \n",
      "2       using  0.006596  \n",
      "3      visual  0.006449  \n",
      "4    magnetic  0.006172  \n",
      "5   resonance  0.005997  \n",
      "6  prefrontal  0.005766  \n",
      "7       motor  0.005652  \n",
      "8    parietal  0.005485  \n",
      "9      memory  0.005189  \n",
      "\n",
      "Bottom terms:\n",
      "                       faces        Weight      emotion        Weight  \\\n",
      "2475             periodicals  8.011988e-07  periodicals  9.662631e-07   \n",
      "2474                    2014  1.688040e-06         2014  1.761735e-06   \n",
      "2473                   wiley  5.995816e-06        wiley  5.721009e-06   \n",
      "2472                    mapp  1.093523e-05         mapp  9.999333e-06   \n",
      "2471                     hum  2.213990e-05          hum  2.062210e-05   \n",
      "2470              mesolimbic  4.137416e-05    temporale  4.246464e-05   \n",
      "2469             opercularis  4.230447e-05       proper  4.260634e-05   \n",
      "2468               temporale  4.238945e-05  opercularis  4.311592e-05   \n",
      "2467                  proper  4.246237e-05       heschl  4.578947e-05   \n",
      "2466  electroencephalography  4.573795e-05   mesolimbic  4.585478e-05   \n",
      "\n",
      "           reward    Weight       vision        Weight  \n",
      "2475  periodicals  0.000001  periodicals  6.591709e-07  \n",
      "2474         2014  0.000002         2014  1.343404e-06  \n",
      "2473        wiley  0.000006        wiley  5.805828e-06  \n",
      "2472         mapp  0.000010         mapp  1.047401e-05  \n",
      "2471          hum  0.000020          hum  2.149116e-05  \n",
      "2470    temporale  0.000036   mesolimbic  3.291736e-05  \n",
      "2469       heschl  0.000039       proper  4.277327e-05  \n",
      "2468  opercularis  0.000041  opercularis  4.428830e-05  \n",
      "2467     speaking  0.000042    enhancing  4.440322e-05  \n",
      "2466       proper  0.000044       choose  4.508703e-05  \n"
     ]
    }
   ],
   "source": [
    "dfs = []\n",
    "for i, name in enumerate(names):\n",
    "    meta_file = 'temp/{0}_pFgA_given_pF=0.50.nii.gz'.format(name)\n",
    "    results = decoder.decode_continuous(meta_file)\n",
    "    results = results.sort_values(by=['Weight'], ascending=False)\n",
    "    results[name] = results.index\n",
    "    results = results[[name, 'Weight']].reset_index(drop=True)\n",
    "    dfs.append(results)\n",
    "df = pd.concat(dfs, axis=1)\n",
    "print('Top terms:')\n",
    "print df.head(10)\n",
    "\n",
    "print('\\nBottom terms:')\n",
    "df = df.reindex(index=df.index[::-1])\n",
    "print df.head(10)"
   ]
  },
  {
   "cell_type": "markdown",
   "metadata": {},
   "source": [
    "## Decode forward inference posterior probabilities (with uniform prior)"
   ]
  },
  {
   "cell_type": "code",
   "execution_count": 9,
   "metadata": {
    "collapsed": false
   },
   "outputs": [
    {
     "name": "stdout",
     "output_type": "stream",
     "text": [
      "Top terms:\n",
      "        faces    Weight     emotion    Weight      reward    Weight  \\\n",
      "0        task  0.010830        task  0.010523        task  0.010581   \n",
      "1    temporal  0.006720    temporal  0.006500  prefrontal  0.006479   \n",
      "2      visual  0.006386  prefrontal  0.006287    magnetic  0.006229   \n",
      "3       using  0.006264       using  0.006245       using  0.006194   \n",
      "4    magnetic  0.006180    magnetic  0.006220   resonance  0.006167   \n",
      "5   resonance  0.006097   resonance  0.006114     frontal  0.005864   \n",
      "6  prefrontal  0.005896     frontal  0.006039    response  0.005674   \n",
      "7     frontal  0.005880      visual  0.005586    temporal  0.005661   \n",
      "8    response  0.005572    response  0.005565     control  0.005367   \n",
      "9    parietal  0.005378    parietal  0.005388    parietal  0.005273   \n",
      "\n",
      "       vision    Weight  \n",
      "0        task  0.011361  \n",
      "1      visual  0.006569  \n",
      "2    temporal  0.006234  \n",
      "3       using  0.006178  \n",
      "4    parietal  0.006175  \n",
      "5    magnetic  0.006169  \n",
      "6   resonance  0.006070  \n",
      "7     frontal  0.005931  \n",
      "8  prefrontal  0.005714  \n",
      "9    response  0.005561  \n",
      "\n",
      "Bottom terms:\n",
      "                       faces    Weight                 emotion    Weight  \\\n",
      "2475             periodicals  0.000001             periodicals  0.000001   \n",
      "2474                    2014  0.000003                    2014  0.000003   \n",
      "2473                   wiley  0.000005                   wiley  0.000005   \n",
      "2472                    mapp  0.000011                    mapp  0.000010   \n",
      "2471                     hum  0.000023                     hum  0.000022   \n",
      "2470  electroencephalography  0.000035  electroencephalography  0.000035   \n",
      "2469            tractography  0.000035            tractography  0.000036   \n",
      "2468                    erps  0.000036                    erps  0.000037   \n",
      "2467             transporter  0.000038             transporter  0.000039   \n",
      "2466                   scalp  0.000041                   scalp  0.000042   \n",
      "\n",
      "                      reward    Weight                  vision        Weight  \n",
      "2475             periodicals  0.000001             periodicals  9.316455e-07  \n",
      "2474                    2014  0.000003                    2014  2.368164e-06  \n",
      "2473                   wiley  0.000005                   wiley  5.280430e-06  \n",
      "2472                    mapp  0.000010                    mapp  1.037351e-05  \n",
      "2471                     hum  0.000020                     hum  2.218508e-05  \n",
      "2470            tractography  0.000038  electroencephalography  3.468941e-05  \n",
      "2469  electroencephalography  0.000038            tractography  3.481936e-05  \n",
      "2468                    erps  0.000040                    erps  3.565474e-05  \n",
      "2467             transporter  0.000041             transporter  3.653138e-05  \n",
      "2466                   scalp  0.000044                  choose  4.051356e-05  \n"
     ]
    }
   ],
   "source": [
    "dfs = []\n",
    "for i, name in enumerate(names):\n",
    "    meta_file = 'temp/{0}_pAgF_given_pF=0.50.nii.gz'.format(name)\n",
    "    results = decoder.decode_continuous(meta_file)\n",
    "    results = results.sort_values(by=['Weight'], ascending=False)\n",
    "    results[name] = results.index\n",
    "    results = results[[name, 'Weight']].reset_index(drop=True)\n",
    "    dfs.append(results)\n",
    "df = pd.concat(dfs, axis=1)\n",
    "print('Top terms:')\n",
    "print df.head(10)\n",
    "\n",
    "print('\\nBottom terms:')\n",
    "df = df.reindex(index=df.index[::-1])\n",
    "print df.head(10)"
   ]
  },
  {
   "cell_type": "code",
   "execution_count": 10,
   "metadata": {
    "collapsed": true
   },
   "outputs": [],
   "source": [
    "# Perform cleanup\n",
    "rmtree('temp/')"
   ]
  }
 ],
 "metadata": {
  "anaconda-cloud": {},
  "kernelspec": {
   "display_name": "Python [default]",
   "language": "python",
   "name": "python2"
  },
  "language_info": {
   "codemirror_mode": {
    "name": "ipython",
    "version": 2
   },
   "file_extension": ".py",
   "mimetype": "text/x-python",
   "name": "python",
   "nbconvert_exporter": "python",
   "pygments_lexer": "ipython2",
   "version": "2.7.12"
  }
 },
 "nbformat": 4,
 "nbformat_minor": 1
}
