{
 "cells": [
  {
   "cell_type": "markdown",
   "metadata": {},
   "source": [
    "# Debug continuous image decoding\n",
    "I noticed that the results of continuous image decoding looked odd, even though the ROI decoding looked good.\n",
    "\n",
    "Patterns I noticed from the results below:\n",
    "- pFgA, pFgA_given_pF=0.50, pAgF, and pAgF_given_pF=0.50 all return the most common terms (e.g., task, using, magnetic).\n",
    "- consistency_z also gives common terms, although a different set (e.g., motor, cerebellum, temporal).\n",
    "    - The bottom terms seem relevant for faces, emotion, and reward, but not visual.\n",
    "- specificity_z is a mixed bag:\n",
    "    - faces has relevant terms at its *lowest* weights\n",
    "    - emotion has some relevant terms (amygdala is highest; cingulate, negative) at highest weights\n",
    "    - reward has relevant terms at highest weights\n",
    "    - so does visual."
   ]
  },
  {
   "cell_type": "code",
   "execution_count": 1,
   "metadata": {
    "collapsed": true
   },
   "outputs": [],
   "source": [
    "from os import mkdir\n",
    "from os.path import join, isdir\n",
    "from shutil import rmtree\n",
    "\n",
    "import gclda\n",
    "import neurosynth\n",
    "import pandas as pd"
   ]
  },
  {
   "cell_type": "code",
   "execution_count": 2,
   "metadata": {
    "collapsed": false
   },
   "outputs": [],
   "source": [
    "# Use the current Neurosynth database (n=11406 studies, ~3k features)\n",
    "d = '/Users/tsalo/Desktop/ns-dataset/'\n",
    "d2 = '/Users/tsalo/Documents/tsalo/python_gclda/data/models/Neurosynth2015Filtered2/'\n",
    "dset = neurosynth.Dataset.load(join(d, 'updated_dataset.pkl'))\n",
    "\n",
    "# Load GC-LDA model trained on current Neurosynth database\n",
    "# (1000 iterations, 400 topics, 2 symmetric subregions per topic) \n",
    "model = gclda.Model.load(join(d2, 'model_200topics_2015Filtered2.pkl'))\n",
    "decoder = gclda.Decoder(model)\n",
    "\n",
    "names = ['faces', 'emotion', 'reward', 'vision']\n",
    "terms = ['face* | facia*', 'emo*', 'reward*', 'visua* | visio*']"
   ]
  },
  {
   "cell_type": "code",
   "execution_count": 3,
   "metadata": {
    "collapsed": false
   },
   "outputs": [
    {
     "name": "stderr",
     "output_type": "stream",
     "text": [
      "Generating LALR tables\n",
      "WARNING: 15 shift/reduce conflicts\n"
     ]
    },
    {
     "name": "stdout",
     "output_type": "stream",
     "text": [
      "faces: 1180 studies\n"
     ]
    },
    {
     "name": "stderr",
     "output_type": "stream",
     "text": [
      "/Users/tsalo/Documents/tsalo/neurosynth/neurosynth/analysis/meta.py:134: RuntimeWarning: invalid value encountered in divide\n",
      "  pFgA = pAgF * pF / pA\n",
      "/Users/tsalo/Documents/tsalo/neurosynth/neurosynth/analysis/meta.py:139: RuntimeWarning: invalid value encountered in divide\n",
      "  pFgA_prior = pAgF * prior / pAgF_prior\n",
      "Generating LALR tables\n",
      "WARNING: 15 shift/reduce conflicts\n"
     ]
    },
    {
     "name": "stdout",
     "output_type": "stream",
     "text": [
      "emotion: 1690 studies\n"
     ]
    },
    {
     "name": "stderr",
     "output_type": "stream",
     "text": [
      "Generating LALR tables\n",
      "WARNING: 15 shift/reduce conflicts\n"
     ]
    },
    {
     "name": "stdout",
     "output_type": "stream",
     "text": [
      "reward: 719 studies\n"
     ]
    },
    {
     "name": "stderr",
     "output_type": "stream",
     "text": [
      "Generating LALR tables\n",
      "WARNING: 15 shift/reduce conflicts\n"
     ]
    },
    {
     "name": "stdout",
     "output_type": "stream",
     "text": [
      "vision: 2719 studies\n"
     ]
    }
   ],
   "source": [
    "# Run meta-analyses\n",
    "if isdir('temp'):\n",
    "    rmtree('temp/')\n",
    "mkdir('temp')\n",
    "for i, term in enumerate(terms):\n",
    "    name = names[i]\n",
    "    ids = dset.get_studies(expression=term)\n",
    "    print('{0}: {1} studies'.format(name, len(ids)))\n",
    "    ma = neurosynth.meta.MetaAnalysis(dset, ids)\n",
    "    ma.save_results('temp', name)"
   ]
  },
  {
   "cell_type": "markdown",
   "metadata": {},
   "source": [
    "## Decode reverse inference z-values"
   ]
  },
  {
   "cell_type": "code",
   "execution_count": 4,
   "metadata": {
    "collapsed": false
   },
   "outputs": [
    {
     "name": "stdout",
     "output_type": "stream",
     "text": [
      "Top terms:\n",
      "            faces    Weight    emotion    Weight     reward    Weight  \\\n",
      "0           motor  0.169276  emotional  0.126189  emotional  0.239309   \n",
      "1         spatial  0.039770     social  0.049861     social  0.098793   \n",
      "2       attention  0.035302    emotion  0.049324    outcome  0.073987   \n",
      "3       movements  0.034377     memory  0.034108     reward  0.073498   \n",
      "4        auditory  0.032522      faces  0.029890    emotion  0.067346   \n",
      "5        movement  0.031870  affective  0.023894     values  0.062130   \n",
      "6          action  0.030883       self  0.022042      value  0.057607   \n",
      "7  working_memory  0.030445     values  0.021368       gain  0.056008   \n",
      "8        learning  0.029339       bias  0.019156  affective  0.053861   \n",
      "9   somatosensory  0.029182       loss  0.018951    arousal  0.052624   \n",
      "\n",
      "       vision    Weight  \n",
      "0      visual  0.219567  \n",
      "1        body  0.042339  \n",
      "2   attention  0.042328  \n",
      "3        face  0.041961  \n",
      "4      motion  0.036513  \n",
      "5    encoding  0.032529  \n",
      "6     spatial  0.032058  \n",
      "7  perceptual  0.031827  \n",
      "8  perception  0.022921  \n",
      "9       blind  0.022623  \n",
      "\n",
      "Bottom terms:\n",
      "           faces    Weight         emotion    Weight         reward    Weight  \\\n",
      "6754        face -0.158783           motor -0.076003          motor -0.106551   \n",
      "6753       faces -0.123360          visual -0.036254         visual -0.099589   \n",
      "6752      visual -0.119209       attention -0.026855       auditory -0.058365   \n",
      "6751   emotional -0.100730         spatial -0.020641        spatial -0.037124   \n",
      "6750      memory -0.094242  working_memory -0.017933         speech -0.036452   \n",
      "6749    encoding -0.061300       movements -0.016372      attention -0.035070   \n",
      "6748       words -0.059953          action -0.014460           body -0.033318   \n",
      "6747  perceptual -0.053479     attentional -0.013385           face -0.032027   \n",
      "6746     emotion -0.052479        movement -0.011852  somatosensory -0.028123   \n",
      "6745    pictures -0.039430          target -0.010719     perceptual -0.027313   \n",
      "\n",
      "         vision    Weight  \n",
      "6754  emotional -0.044810  \n",
      "6753     social -0.026988  \n",
      "6752       self -0.015169  \n",
      "6751    emotion -0.014648  \n",
      "6750  affective -0.011038  \n",
      "6749     values -0.010471  \n",
      "6748     reward -0.010361  \n",
      "6747       risk -0.009160  \n",
      "6746       loss -0.008598  \n",
      "6745      value -0.008385  \n"
     ]
    }
   ],
   "source": [
    "dfs = []\n",
    "for i, name in enumerate(names):\n",
    "    meta_file = 'temp/{0}_specificity_z.nii.gz'.format(name)\n",
    "    results = decoder.decode_continuous(meta_file)\n",
    "    results = results.sort_values(by=['Weight'], ascending=False)\n",
    "    results[name] = results.index\n",
    "    results = results[[name, 'Weight']].reset_index(drop=True)\n",
    "    dfs.append(results)\n",
    "df = pd.concat(dfs, axis=1)\n",
    "print('Top terms:')\n",
    "print df.head(10)\n",
    "\n",
    "print('\\nBottom terms:')\n",
    "df = df.reindex(index=df.index[::-1])\n",
    "print df.head(10)"
   ]
  },
  {
   "cell_type": "markdown",
   "metadata": {},
   "source": [
    "## Decode forward inference z-values"
   ]
  },
  {
   "cell_type": "code",
   "execution_count": 5,
   "metadata": {
    "collapsed": false
   },
   "outputs": [
    {
     "name": "stdout",
     "output_type": "stream",
     "text": [
      "Top terms:\n",
      "          faces     Weight       emotion    Weight        reward    Weight  \\\n",
      "0         motor  18.948401         motor  4.293515         motor  6.282046   \n",
      "1       lobules   4.764082       lobules  1.088736       lobules  1.873589   \n",
      "2        timing   4.226164        timing  0.954607        timing  1.697116   \n",
      "3        social   4.147535        lesion  0.803870        visual  1.476396   \n",
      "4        lesion   3.499482            iv  0.753190       reading  1.393691   \n",
      "5  sensorimotor   3.467321     asymmetry  0.716585        lesion  1.310424   \n",
      "6            iv   3.257850         focal  0.710107            iv  1.298904   \n",
      "7     asymmetry   3.186450  sensorimotor  0.692990  sensorimotor  1.242575   \n",
      "8         focal   3.183072        verbal  0.674711     asymmetry  1.184920   \n",
      "9     intensity   3.017914       reading  0.617181         focal  1.181768   \n",
      "\n",
      "        vision     Weight  \n",
      "0       visual  23.299077  \n",
      "1    attention   7.251309  \n",
      "2         body   6.761068  \n",
      "3         face   5.585679  \n",
      "4       motion   5.527898  \n",
      "5   perceptual   4.377164  \n",
      "6   perception   4.373536  \n",
      "7        words   3.967498  \n",
      "8  attentional   3.545802  \n",
      "9       target   3.110779  \n",
      "\n",
      "Bottom terms:\n",
      "           faces     Weight    emotion    Weight     reward    Weight  \\\n",
      "6754      visual -17.909335  emotional -3.404700  emotional -6.433756   \n",
      "6753        face -16.798530    emotion -2.247256    emotion -3.120430   \n",
      "6752       faces -13.561399      faces -1.386585   feedback -3.054410   \n",
      "6751       words -10.045241  affective -1.185303    outcome -3.040322   \n",
      "6750   emotional  -7.847740      novel -1.041306       gain -2.535211   \n",
      "6749     emotion  -7.846696   pictures -1.010016  affective -2.462817   \n",
      "6748  perceptual  -7.108151      words -0.985893     reward -2.087697   \n",
      "6747        body  -6.997247       body -0.883383      novel -2.083350   \n",
      "6746    pictures  -5.570543   auditory -0.824529   outcomes -1.949990   \n",
      "6745      memory  -5.434054       face -0.730691     values -1.726137   \n",
      "\n",
      "         vision    Weight  \n",
      "6754  emotional -6.375476  \n",
      "6753     social -6.051459  \n",
      "6752      motor -5.861568  \n",
      "6751    lobules -3.424787  \n",
      "6750     timing -2.956348  \n",
      "6749  retrieval -2.647121  \n",
      "6748       grey -2.598504  \n",
      "6747       self -2.553698  \n",
      "6746      focal -2.439863  \n",
      "6745       bias -2.331796  \n"
     ]
    }
   ],
   "source": [
    "dfs = []\n",
    "for i, name in enumerate(names):\n",
    "    meta_file = 'temp/{0}_consistency_z.nii.gz'.format(name)\n",
    "    results = decoder.decode_continuous(meta_file)\n",
    "    results = results.sort_values(by=['Weight'], ascending=False)\n",
    "    results[name] = results.index\n",
    "    results = results[[name, 'Weight']].reset_index(drop=True)\n",
    "    dfs.append(results)\n",
    "df = pd.concat(dfs, axis=1)\n",
    "print('Top terms:')\n",
    "print df.head(10)\n",
    "\n",
    "print('\\nBottom terms:')\n",
    "df = df.reindex(index=df.index[::-1])\n",
    "print df.head(10)"
   ]
  },
  {
   "cell_type": "markdown",
   "metadata": {},
   "source": [
    "## Decode reverse inference conditional probabilities"
   ]
  },
  {
   "cell_type": "code",
   "execution_count": 6,
   "metadata": {
    "collapsed": false
   },
   "outputs": [
    {
     "name": "stdout",
     "output_type": "stream",
     "text": [
      "Top terms:\n",
      "       faces    Weight    emotion    Weight     reward    Weight     vision  \\\n",
      "0     visual  0.013905  emotional  0.010842  emotional  0.012222     visual   \n",
      "1  emotional  0.009126     visual  0.010035      motor  0.009626      motor   \n",
      "2      motor  0.008912      motor  0.009332     visual  0.009566     memory   \n",
      "3     memory  0.007669     social  0.007344     social  0.007921  emotional   \n",
      "4     social  0.005945     memory  0.006519     memory  0.005620  attention   \n",
      "5       face  0.005433   encoding  0.003638       self  0.003791     social   \n",
      "6   encoding  0.004789   learning  0.003623  retrieval  0.003599    spatial   \n",
      "7      faces  0.004779       self  0.003590   learning  0.003598   encoding   \n",
      "8   semantic  0.003561      faces  0.003398    emotion  0.003313       face   \n",
      "9  retrieval  0.003312  retrieval  0.003363     reward  0.003238   learning   \n",
      "\n",
      "     Weight  \n",
      "0  0.017497  \n",
      "1  0.012203  \n",
      "2  0.006111  \n",
      "3  0.005825  \n",
      "4  0.004885  \n",
      "5  0.004712  \n",
      "6  0.004556  \n",
      "7  0.004392  \n",
      "8  0.003578  \n",
      "9  0.003415  \n",
      "\n",
      "Bottom terms:\n",
      "                faces        Weight          emotion        Weight  \\\n",
      "6754         pedaling  2.797721e-07         pedaling  2.525203e-07   \n",
      "6753           policy  1.133885e-06           policy  1.178836e-06   \n",
      "6752      manifesting  1.467909e-06      manifesting  1.687991e-06   \n",
      "6751        isotropic  1.867281e-06        isotropic  2.037975e-06   \n",
      "6750    visualization  2.364610e-06              cis  2.297197e-06   \n",
      "6749               pv  2.907961e-06    visualization  2.914316e-06   \n",
      "6748              cis  3.346083e-06               pv  3.283803e-06   \n",
      "6747         amenable  4.091477e-06    reconstructed  4.004183e-06   \n",
      "6746    reconstructed  4.126212e-06         amenable  4.068934e-06   \n",
      "6745  physiologically  4.306984e-06  physiologically  4.312914e-06   \n",
      "\n",
      "               reward        Weight             vision        Weight  \n",
      "6754         pedaling  3.054692e-07           pedaling  2.555559e-07  \n",
      "6753           policy  1.129294e-06             policy  1.397068e-06  \n",
      "6752      manifesting  1.794288e-06        manifesting  1.623228e-06  \n",
      "6751              cis  1.821023e-06      visualization  2.455223e-06  \n",
      "6750        isotropic  2.431527e-06          isotropic  3.225871e-06  \n",
      "6749            fifth  3.414530e-06                 pv  3.357399e-06  \n",
      "6748               pv  4.595085e-06          iterative  3.984342e-06  \n",
      "6747        iterative  5.055034e-06                cis  4.160999e-06  \n",
      "6746  physiologically  5.125017e-06      reconstructed  4.209496e-06  \n",
      "6745             ltle  5.241479e-06  attentional_blink  4.892818e-06  \n"
     ]
    }
   ],
   "source": [
    "dfs = []\n",
    "for i, name in enumerate(names):\n",
    "    meta_file = 'temp/{0}_pFgA.nii.gz'.format(name)\n",
    "    results = decoder.decode_continuous(meta_file)\n",
    "    results = results.sort_values(by=['Weight'], ascending=False)\n",
    "    results[name] = results.index\n",
    "    results = results[[name, 'Weight']].reset_index(drop=True)\n",
    "    dfs.append(results)\n",
    "df = pd.concat(dfs, axis=1)\n",
    "print('Top terms:')\n",
    "print df.head(10)\n",
    "\n",
    "print('\\nBottom terms:')\n",
    "df = df.reindex(index=df.index[::-1])\n",
    "print df.head(10)"
   ]
  },
  {
   "cell_type": "markdown",
   "metadata": {},
   "source": [
    "## Decode forward inference conditional probabilities"
   ]
  },
  {
   "cell_type": "code",
   "execution_count": 7,
   "metadata": {
    "collapsed": false
   },
   "outputs": [
    {
     "name": "stdout",
     "output_type": "stream",
     "text": [
      "Top terms:\n",
      "       faces    Weight    emotion    Weight     reward    Weight     vision  \\\n",
      "0     visual  0.016088     visual  0.011567  emotional  0.011465     visual   \n",
      "1  emotional  0.009329  emotional  0.011088     visual  0.010618      motor   \n",
      "2      motor  0.007628      motor  0.007828      motor  0.008347  attention   \n",
      "3     memory  0.007026     memory  0.006054     social  0.006264     memory   \n",
      "4       face  0.006876     social  0.005912     memory  0.005043  emotional   \n",
      "5      faces  0.006172    emotion  0.004628  attention  0.004198    spatial   \n",
      "6      words  0.004927      faces  0.004271    emotion  0.004123       face   \n",
      "7     social  0.004669  attention  0.003927   learning  0.003397   auditory   \n",
      "8   encoding  0.004524   auditory  0.003926       self  0.003304   encoding   \n",
      "9  attention  0.004405   learning  0.003479   feedback  0.003301      words   \n",
      "\n",
      "     Weight  \n",
      "0  0.019457  \n",
      "1  0.010423  \n",
      "2  0.006207  \n",
      "3  0.005404  \n",
      "4  0.005133  \n",
      "5  0.004650  \n",
      "6  0.004522  \n",
      "7  0.004055  \n",
      "8  0.004038  \n",
      "9  0.003724  \n",
      "\n",
      "Bottom terms:\n",
      "              faces        Weight          emotion        Weight       reward  \\\n",
      "6754       pedaling  6.098170e-07         pedaling  5.652840e-07     pedaling   \n",
      "6753         policy  1.209469e-06           policy  1.242213e-06       policy   \n",
      "6752    manifesting  2.138193e-06      manifesting  2.463030e-06  manifesting   \n",
      "6751      isotropic  3.340292e-06        isotropic  3.734542e-06          cis   \n",
      "6750         kernel  4.088814e-06              cis  3.738472e-06       kernel   \n",
      "6749  visualization  4.282688e-06           kernel  4.144856e-06    isotropic   \n",
      "6748      lidocaine  4.907069e-06    visualization  5.349599e-06     waveform   \n",
      "6747            cis  5.215652e-06         waveform  5.535297e-06        fifth   \n",
      "6746       waveform  5.320719e-06        lidocaine  5.689421e-06    iterative   \n",
      "6745   temperatures  5.397776e-06  physiologically  6.115813e-06    lidocaine   \n",
      "\n",
      "            Weight         vision        Weight  \n",
      "6754  6.521998e-07       pedaling  5.383295e-07  \n",
      "6753  1.251453e-06         policy  1.417779e-06  \n",
      "6752  2.579097e-06    manifesting  2.281411e-06  \n",
      "6751  2.773014e-06         kernel  3.687111e-06  \n",
      "6750  4.178750e-06  visualization  4.325458e-06  \n",
      "6749  4.375557e-06      lidocaine  4.449219e-06  \n",
      "6748  5.647881e-06      iterative  4.770311e-06  \n",
      "6747  5.801986e-06       headache  4.894141e-06  \n",
      "6746  6.308822e-06   temperatures  4.894141e-06  \n",
      "6745  6.802613e-06             ih  4.894141e-06  \n"
     ]
    }
   ],
   "source": [
    "dfs = []\n",
    "for i, name in enumerate(names):\n",
    "    meta_file = 'temp/{0}_pAgF.nii.gz'.format(name)\n",
    "    results = decoder.decode_continuous(meta_file)\n",
    "    results = results.sort_values(by=['Weight'], ascending=False)\n",
    "    results[name] = results.index\n",
    "    results = results[[name, 'Weight']].reset_index(drop=True)\n",
    "    dfs.append(results)\n",
    "df = pd.concat(dfs, axis=1)\n",
    "print('Top terms:')\n",
    "print df.head(10)\n",
    "\n",
    "print('\\nBottom terms:')\n",
    "df = df.reindex(index=df.index[::-1])\n",
    "print df.head(10)"
   ]
  },
  {
   "cell_type": "markdown",
   "metadata": {},
   "source": [
    "## Decode reverse inference posterior probabilities (with uniform prior)"
   ]
  },
  {
   "cell_type": "code",
   "execution_count": 8,
   "metadata": {
    "collapsed": false
   },
   "outputs": [
    {
     "name": "stdout",
     "output_type": "stream",
     "text": [
      "Top terms:\n",
      "       faces    Weight    emotion    Weight     reward    Weight       vision  \\\n",
      "0     visual  0.013015     visual  0.010874     visual  0.010963       visual   \n",
      "1      motor  0.010225      motor  0.010492      motor  0.010963        motor   \n",
      "2  emotional  0.008325  emotional  0.009102  emotional  0.009483    emotional   \n",
      "3     memory  0.006695     social  0.006624     social  0.006782       memory   \n",
      "4     social  0.005941     memory  0.006120     memory  0.005730       social   \n",
      "5   encoding  0.004178   learning  0.003714   learning  0.003787    attention   \n",
      "6       face  0.003764   encoding  0.003591  attention  0.003527      spatial   \n",
      "7      faces  0.003551       self  0.003323       self  0.003460     encoding   \n",
      "8  attention  0.003517  attention  0.003249   encoding  0.003416     learning   \n",
      "9   learning  0.003516    spatial  0.003233    spatial  0.003352  stimulation   \n",
      "\n",
      "     Weight  \n",
      "0  0.015094  \n",
      "1  0.012381  \n",
      "2  0.006324  \n",
      "3  0.005913  \n",
      "4  0.005058  \n",
      "5  0.004457  \n",
      "6  0.004248  \n",
      "7  0.004027  \n",
      "8  0.003560  \n",
      "9  0.003198  \n",
      "\n",
      "Bottom terms:\n",
      "                faces        Weight        emotion        Weight  \\\n",
      "6754         pedaling  3.164482e-07       pedaling  2.901305e-07   \n",
      "6753           policy  1.333333e-06         policy  1.345974e-06   \n",
      "6752      manifesting  1.706699e-06    manifesting  1.822649e-06   \n",
      "6751        isotropic  2.346207e-06      isotropic  2.424030e-06   \n",
      "6750    visualization  2.748411e-06            cis  2.496688e-06   \n",
      "6749              cis  3.119244e-06  visualization  3.066725e-06   \n",
      "6748               pv  3.377182e-06             pv  3.563568e-06   \n",
      "6747    reconstructed  4.696218e-06  reconstructed  4.518336e-06   \n",
      "6746         amenable  4.796499e-06       amenable  4.668413e-06   \n",
      "6745  physiologically  5.006016e-06          fifth  4.714586e-06   \n",
      "\n",
      "               reward        Weight         vision        Weight  \n",
      "6754         pedaling  3.406920e-07       pedaling  2.838227e-07  \n",
      "6753           policy  1.378357e-06         policy  1.469939e-06  \n",
      "6752      manifesting  1.979798e-06    manifesting  1.746221e-06  \n",
      "6751              cis  2.273439e-06  visualization  2.695137e-06  \n",
      "6750        isotropic  2.861708e-06      isotropic  3.242022e-06  \n",
      "6749            fifth  4.062654e-06            cis  3.502395e-06  \n",
      "6748    visualization  4.299306e-06             pv  3.553252e-06  \n",
      "6747               pv  4.460403e-06      iterative  4.214130e-06  \n",
      "6746        iterative  5.049934e-06  reconstructed  4.572082e-06  \n",
      "6745  physiologically  5.561886e-06          fifth  5.086175e-06  \n"
     ]
    }
   ],
   "source": [
    "dfs = []\n",
    "for i, name in enumerate(names):\n",
    "    meta_file = 'temp/{0}_pFgA_given_pF=0.50.nii.gz'.format(name)\n",
    "    results = decoder.decode_continuous(meta_file)\n",
    "    results = results.sort_values(by=['Weight'], ascending=False)\n",
    "    results[name] = results.index\n",
    "    results = results[[name, 'Weight']].reset_index(drop=True)\n",
    "    dfs.append(results)\n",
    "df = pd.concat(dfs, axis=1)\n",
    "print('Top terms:')\n",
    "print df.head(10)\n",
    "\n",
    "print('\\nBottom terms:')\n",
    "df = df.reindex(index=df.index[::-1])\n",
    "print df.head(10)"
   ]
  },
  {
   "cell_type": "markdown",
   "metadata": {},
   "source": [
    "## Decode forward inference posterior probabilities (with uniform prior)"
   ]
  },
  {
   "cell_type": "code",
   "execution_count": 9,
   "metadata": {
    "collapsed": false
   },
   "outputs": [
    {
     "name": "stdout",
     "output_type": "stream",
     "text": [
      "Top terms:\n",
      "       faces    Weight    emotion    Weight     reward    Weight     vision  \\\n",
      "0     visual  0.014435     visual  0.012491     visual  0.011959     visual   \n",
      "1      motor  0.009257      motor  0.009398      motor  0.009497      motor   \n",
      "2  emotional  0.007857  emotional  0.008539  emotional  0.008952  emotional   \n",
      "3     memory  0.005883     memory  0.005437     social  0.005364  attention   \n",
      "4  attention  0.004792     social  0.005125     memory  0.005018     memory   \n",
      "5       face  0.004765  attention  0.004607  attention  0.004671     social   \n",
      "6     social  0.004609   auditory  0.004149   auditory  0.003578   auditory   \n",
      "7      faces  0.004451      faces  0.003598   learning  0.003540    spatial   \n",
      "8      words  0.004000   learning  0.003589    spatial  0.003444       face   \n",
      "9   auditory  0.003993    spatial  0.003512    emotion  0.003324   learning   \n",
      "\n",
      "     Weight  \n",
      "0  0.015385  \n",
      "1  0.010486  \n",
      "2  0.006156  \n",
      "3  0.005487  \n",
      "4  0.005141  \n",
      "5  0.004246  \n",
      "6  0.004219  \n",
      "7  0.004140  \n",
      "8  0.003622  \n",
      "9  0.003553  \n",
      "\n",
      "Bottom terms:\n",
      "              faces        Weight        emotion        Weight       reward  \\\n",
      "6754       pedaling  6.755161e-07       pedaling  6.592509e-07     pedaling   \n",
      "6753         policy  1.455827e-06         policy  1.478115e-06       policy   \n",
      "6752    manifesting  2.516263e-06    manifesting  2.664956e-06  manifesting   \n",
      "6751         kernel  4.282027e-06            cis  4.003388e-06          cis   \n",
      "6750      isotropic  4.577843e-06         kernel  4.312167e-06       kernel   \n",
      "6749            cis  4.639496e-06      isotropic  4.785605e-06    isotropic   \n",
      "6748  visualization  5.063070e-06      lidocaine  5.401753e-06     waveform   \n",
      "6747      lidocaine  5.069844e-06  visualization  5.535274e-06    lidocaine   \n",
      "6746       waveform  5.565114e-06       waveform  5.663149e-06    iterative   \n",
      "6745            lbp  5.576829e-06   temperatures  5.941928e-06     headache   \n",
      "\n",
      "            Weight         vision        Weight  \n",
      "6754  6.914836e-07       pedaling  6.598309e-07  \n",
      "6753  1.460631e-06         policy  1.565706e-06  \n",
      "6752  2.700924e-06    manifesting  2.622398e-06  \n",
      "6751  3.524215e-06         kernel  4.168096e-06  \n",
      "6750  4.312642e-06      lidocaine  4.931568e-06  \n",
      "6749  4.990185e-06            cis  4.937008e-06  \n",
      "6748  5.704333e-06  visualization  5.192606e-06  \n",
      "6747  5.952603e-06      iterative  5.331038e-06  \n",
      "6746  5.954157e-06            lbp  5.424725e-06  \n",
      "6745  6.547863e-06       headache  5.424725e-06  \n"
     ]
    }
   ],
   "source": [
    "dfs = []\n",
    "for i, name in enumerate(names):\n",
    "    meta_file = 'temp/{0}_pAgF_given_pF=0.50.nii.gz'.format(name)\n",
    "    results = decoder.decode_continuous(meta_file)\n",
    "    results = results.sort_values(by=['Weight'], ascending=False)\n",
    "    results[name] = results.index\n",
    "    results = results[[name, 'Weight']].reset_index(drop=True)\n",
    "    dfs.append(results)\n",
    "df = pd.concat(dfs, axis=1)\n",
    "print('Top terms:')\n",
    "print df.head(10)\n",
    "\n",
    "print('\\nBottom terms:')\n",
    "df = df.reindex(index=df.index[::-1])\n",
    "print df.head(10)"
   ]
  },
  {
   "cell_type": "code",
   "execution_count": 10,
   "metadata": {
    "collapsed": true
   },
   "outputs": [],
   "source": [
    "# Perform cleanup\n",
    "rmtree('temp/')"
   ]
  }
 ],
 "metadata": {
  "anaconda-cloud": {},
  "kernelspec": {
   "display_name": "Python [default]",
   "language": "python",
   "name": "python2"
  },
  "language_info": {
   "codemirror_mode": {
    "name": "ipython",
    "version": 2
   },
   "file_extension": ".py",
   "mimetype": "text/x-python",
   "name": "python",
   "nbconvert_exporter": "python",
   "pygments_lexer": "ipython2",
   "version": "2.7.12"
  }
 },
 "nbformat": 4,
 "nbformat_minor": 1
}
