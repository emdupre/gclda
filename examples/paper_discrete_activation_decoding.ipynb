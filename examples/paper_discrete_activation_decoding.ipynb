{
 "cells": [
  {
   "cell_type": "markdown",
   "metadata": {},
   "source": [
    "# Perform discrete activation decoding\n",
    "Decode ROIs from [Rubin et al. (2016)](http://www.biorxiv.org/content/early/2016/06/18/059618)."
   ]
  },
  {
   "cell_type": "code",
   "execution_count": 1,
   "metadata": {
    "collapsed": false
   },
   "outputs": [
    {
     "name": "stderr",
     "output_type": "stream",
     "text": [
      "/Users/tsalo/anaconda/lib/python2.7/site-packages/matplotlib/__init__.py:1357: UserWarning:  This call to matplotlib.use() has no effect\n",
      "because the backend has already been chosen;\n",
      "matplotlib.use() must be called *before* pylab, matplotlib.pyplot,\n",
      "or matplotlib.backends is imported for the first time.\n",
      "\n",
      "  warnings.warn(_use_error_msg)\n"
     ]
    }
   ],
   "source": [
    "%matplotlib inline\n",
    "import nibabel as nib\n",
    "from nilearn import plotting\n",
    "from nltools.mask import create_sphere\n",
    "\n",
    "from gclda.model import Model\n",
    "from gclda.decode import Decoder"
   ]
  },
  {
   "cell_type": "code",
   "execution_count": 2,
   "metadata": {
    "collapsed": false
   },
   "outputs": [
    {
     "name": "stdout",
     "output_type": "stream",
     "text": [
      "--- Model Summary ---\n",
      " Current State:\n",
      "\t Current Iteration   = 1000\n",
      "\t Initialization Seed = 1\n",
      "\t Current Log-Likely  = -11529616.3744\n",
      " Model Hyper-Parameters:\n",
      "\t Symmetric = 0.1\n",
      "\t n_topics  = 200\n",
      "\t n_regions = 2\n",
      "\t alpha     = 0.010\n",
      "\t beta      = 0.010\n",
      "\t gamma     = 1.000\n",
      "\t delta     = 25.000\n",
      "\t roi_size  = 1.000\n",
      "\t dobs      = 50\n",
      " Model Training-Data Information:\n",
      "\t Dataset Label                 = 20170813\n",
      "\t Word-Tokens (n_word_tokens)   = 554135\n",
      "\t Peak-Tokens (n_peak_tokens)   = 413292\n",
      "\t Word-Types (n_word_labels)    = 6754\n",
      "\t Documents (n_docs)            = 11404\n",
      "\t Peak-Dimensions (n_peak_dims) = 3\n"
     ]
    }
   ],
   "source": [
    "# Load example model and initialize decoder\n",
    "model = Model.load('gclda_results/20170813/model_200topics_20170813.pkl')\n",
    "decoder = Decoder(model)\n",
    "\n",
    "model.display_model_summary()\n",
    "\n",
    "# Create mask image\n",
    "mask_data = (model.dataset.masker.volume.get_data()!=0).astype(int)\n",
    "affine = model.dataset.masker.volume.affine\n",
    "mask = nib.Nifti1Image(mask_data, affine)"
   ]
  },
  {
   "cell_type": "code",
   "execution_count": 3,
   "metadata": {
    "collapsed": false
   },
   "outputs": [
    {
     "name": "stderr",
     "output_type": "stream",
     "text": [
      "/Users/tsalo/anaconda/lib/python2.7/site-packages/scipy/ndimage/interpolation.py:462: UserWarning: The behaviour of affine_transform with a one-dimensional array supplied for the matrix parameter has changed in scipy 0.18.0.\n",
      "  \"The behaviour of affine_transform with a one-dimensional \"\n"
     ]
    },
    {
     "name": "stdout",
     "output_type": "stream",
     "text": [
      "                  Weight\n",
      "Term                    \n",
      "mental          0.041585\n",
      "mentalizing     0.034575\n",
      "mind            0.029933\n",
      "scale           0.025432\n",
      "theory_of_mind  0.023213\n",
      "behavioural     0.018863\n",
      "mental_states   0.018692\n",
      "belief          0.018692\n",
      "intention       0.017058\n",
      "attribution     0.016860\n"
     ]
    }
   ],
   "source": [
    "coords = [[-52, -56, 18]]\n",
    "radii = [3] * len(coords)\n",
    "\n",
    "roi_img = create_sphere(coords, radius=radii, mask=mask)\n",
    "df = decoder.decode_roi(roi_img)\n",
    "df = df.sort_values(by='Weight', ascending=False)\n",
    "print(df.head(10))"
   ]
  },
  {
   "cell_type": "code",
   "execution_count": 4,
   "metadata": {
    "collapsed": false
   },
   "outputs": [
    {
     "name": "stdout",
     "output_type": "stream",
     "text": [
      "               Weight\n",
      "Term                 \n",
      "physical     0.031458\n",
      "emotional    0.029912\n",
      "behaviors    0.026500\n",
      "fundamental  0.016018\n",
      "reflects     0.014954\n",
      "experience   0.013545\n",
      "affect       0.013275\n",
      "viewed       0.012988\n",
      "viewing      0.012036\n",
      "mental       0.011493\n"
     ]
    }
   ],
   "source": [
    "coords = [[-56, -52, 18],\n",
    "          [0, -58, 38],\n",
    "          [4, 54, 26]]\n",
    "radii = [3] * len(coords)\n",
    "\n",
    "roi_img = create_sphere(coords, radius=radii, mask=mask)\n",
    "df = decoder.decode_roi(roi_img)\n",
    "df = df.sort_values(by='Weight', ascending=False)\n",
    "print(df.head(10))"
   ]
  },
  {
   "cell_type": "code",
   "execution_count": 5,
   "metadata": {
    "collapsed": false
   },
   "outputs": [
    {
     "name": "stdout",
     "output_type": "stream",
     "text": [
      "                 Weight\n",
      "Term                   \n",
      "language       0.038655\n",
      "words          0.023391\n",
      "comprehension  0.015564\n",
      "mental         0.014989\n",
      "speech         0.014043\n",
      "sentences      0.012650\n",
      "mentalizing    0.012245\n",
      "mind           0.010652\n",
      "semantic       0.010637\n",
      "sensory        0.010614\n"
     ]
    }
   ],
   "source": [
    "coords = [[-56, -52, 18],\n",
    "          [-54, -40, 0],\n",
    "          [-50, 26, 6]]\n",
    "radii = [3] * len(coords)\n",
    "\n",
    "roi_img = create_sphere(coords, radius=radii, mask=mask)\n",
    "df = decoder.decode_roi(roi_img)\n",
    "df = df.sort_values(by='Weight', ascending=False)\n",
    "print(df.head(10))"
   ]
  }
 ],
 "metadata": {
  "anaconda-cloud": {},
  "kernelspec": {
   "display_name": "Python [default]",
   "language": "python",
   "name": "python2"
  },
  "language_info": {
   "codemirror_mode": {
    "name": "ipython",
    "version": 2
   },
   "file_extension": ".py",
   "mimetype": "text/x-python",
   "name": "python",
   "nbconvert_exporter": "python",
   "pygments_lexer": "ipython2",
   "version": "2.7.12"
  }
 },
 "nbformat": 4,
 "nbformat_minor": 1
}
