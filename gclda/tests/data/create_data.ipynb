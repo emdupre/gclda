{
 "cells": [
  {
   "cell_type": "markdown",
   "metadata": {},
   "source": [
    "# Create test files\n",
    "Need:\n",
    "- 10 articles with permission, 5 arbitrary features\n",
    "- abstracts.csv\n",
    "- feature_counts.txt\n",
    "- neurosynth_dataset.pkl\n",
    "    - This means creating reduced versions of **database.txt** and **features.txt**\n",
    "- dataset_files/pmids.txt\n",
    "- dataset_files/peak_indices.txt\n",
    "- dataset_files/word_labels.txt\n",
    "- dataset_files/word_indices.txt\n",
    "- gclda_dataset.pkl\n",
    "- gclda_model.pkl\n",
    "\n",
    "Have: \n",
    "- continuous.nii.gz\n",
    "- roi.nii.gz"
   ]
  },
  {
   "cell_type": "code",
   "execution_count": 1,
   "metadata": {
    "collapsed": true
   },
   "outputs": [],
   "source": [
    "from os.path import join\n",
    "\n",
    "import numpy as np\n",
    "import pandas as pd\n",
    "import neurosynth\n",
    "from gclda.dataset import Dataset\n",
    "from gclda.dataset import import_neurosynth\n",
    "from gclda.tests.utils import get_test_data_path\n",
    "from gclda.model import Model"
   ]
  },
  {
   "cell_type": "code",
   "execution_count": 2,
   "metadata": {
    "collapsed": false
   },
   "outputs": [],
   "source": [
    "# Constants\n",
    "in_dir = '/Users/tsalo/Desktop/ns-dataset/'\n",
    "out_dir = get_test_data_path()"
   ]
  },
  {
   "cell_type": "code",
   "execution_count": 3,
   "metadata": {
    "collapsed": true
   },
   "outputs": [],
   "source": [
    "db_file = join(in_dir, 'database.txt')\n",
    "feat_file = join(in_dir, 'features.txt')\n",
    "df_db = pd.read_csv(db_file, sep='\\t', index_col='id')\n",
    "df_feat = pd.read_csv(feat_file, sep='\\t', index_col='pmid')\n",
    "pmids = df_db.index.unique()[:10]\n",
    "features = ['addition', 'analyzed', 'anterior', 'blood', 'conditions']\n",
    "df_db = df_db.loc[pmids]\n",
    "df_feat = df_feat.loc[pmids][features]\n",
    "df_db.to_csv(join(in_dir, 'database_reduced.txt'), sep='\\t',\n",
    "             index_label='id')\n",
    "df_feat.to_csv(join(in_dir, 'features_reduced.txt'), sep='\\t',\n",
    "               index_label='pmid')"
   ]
  },
  {
   "cell_type": "code",
   "execution_count": 4,
   "metadata": {
    "collapsed": true
   },
   "outputs": [],
   "source": [
    "# Neurosynth dataset\n",
    "dataset = neurosynth.Dataset(join(in_dir, 'database_reduced.txt'),\n",
    "                             join(in_dir, 'features_reduced.txt'))\n",
    "dataset.save(join(out_dir, 'neurosynth_dataset.pkl'))"
   ]
  },
  {
   "cell_type": "code",
   "execution_count": 5,
   "metadata": {
    "collapsed": false
   },
   "outputs": [],
   "source": [
    "# Counts file\n",
    "counts_file = join(out_dir, 'feature_counts.txt')\n",
    "dat = df_feat.values\n",
    "dat[dat>0] = 1\n",
    "dat = dat.astype(int)\n",
    "df_counts = pd.DataFrame(columns=df_feat.columns, index=df_feat.index, data=dat)\n",
    "df_counts.to_csv(counts_file, sep='\\t', index_label='pmid')"
   ]
  },
  {
   "cell_type": "code",
   "execution_count": 6,
   "metadata": {
    "collapsed": false
   },
   "outputs": [],
   "source": [
    "# Abstracts file\n",
    "abstracts = []\n",
    "for i in range(df_counts.shape[0]):\n",
    "    row = df_counts.iloc[i]\n",
    "    string = 'test ' + ' '.join(row[row==1].index.values)\n",
    "    string = string.strip()\n",
    "    abstracts.append(string)\n",
    "df_abstracts = pd.DataFrame(index=df_counts.index, columns=['abstract'],\n",
    "                            data=abstracts)\n",
    "df_abstracts.to_csv(join(out_dir, 'abstracts.csv'), index_label='pmid')"
   ]
  },
  {
   "cell_type": "code",
   "execution_count": 7,
   "metadata": {
    "collapsed": false
   },
   "outputs": [],
   "source": [
    "ns_dset_file = join(out_dir, 'neurosynth_dataset.pkl')\n",
    "temp_dir = join(out_dir, 'temp')\n",
    "\n",
    "ns_dset = neurosynth.Dataset.load(ns_dset_file)\n",
    "import_neurosynth(ns_dset, 'dataset_files', out_dir=out_dir,\n",
    "                  counts_file=counts_file)"
   ]
  },
  {
   "cell_type": "code",
   "execution_count": 8,
   "metadata": {
    "collapsed": true
   },
   "outputs": [],
   "source": [
    "dataset = Dataset('dataset_files', out_dir)\n",
    "dataset.save(join(out_dir, 'gclda_dataset.pkl'))"
   ]
  },
  {
   "cell_type": "code",
   "execution_count": 9,
   "metadata": {
    "collapsed": false
   },
   "outputs": [
    {
     "name": "stdout",
     "output_type": "stream",
     "text": [
      "Constructing GC-LDA Model\n",
      "Initializing GC-LDA Model\n",
      "Iter 0001: Sampling z\n",
      "Iter 0001: Sampling y|r\n",
      "Iter 0001: Updating spatial params\n",
      "Iter 0001: Computing log-likelihood\n",
      "Iter 0001 Log-likely: x =   -11999.3, w =      -27.4, tot =   -12026.7\n",
      "Iter 0002: Sampling z\n",
      "Iter 0002: Sampling y|r\n",
      "Iter 0002: Updating spatial params\n",
      "Iter 0002: Computing log-likelihood\n",
      "Iter 0002 Log-likely: x =   -12019.5, w =      -28.8, tot =   -12048.3\n",
      "Iter 0003: Sampling z\n",
      "Iter 0003: Sampling y|r\n",
      "Iter 0003: Updating spatial params\n",
      "Iter 0003: Computing log-likelihood\n",
      "Iter 0003 Log-likely: x =   -12064.6, w =      -28.8, tot =   -12093.4\n",
      "Iter 0004: Sampling z\n",
      "Iter 0004: Sampling y|r\n",
      "Iter 0004: Updating spatial params\n",
      "Iter 0004: Computing log-likelihood\n",
      "Iter 0004 Log-likely: x =   -12152.1, w =      -34.1, tot =   -12186.3\n",
      "Iter 0005: Sampling z\n",
      "Iter 0005: Sampling y|r\n",
      "Iter 0005: Updating spatial params\n",
      "Iter 0005: Computing log-likelihood\n",
      "Iter 0005 Log-likely: x =   -12349.0, w =      -39.5, tot =   -12388.5\n",
      "Iter 0006: Sampling z\n",
      "Iter 0006: Sampling y|r\n",
      "Iter 0006: Updating spatial params\n",
      "Iter 0006: Computing log-likelihood\n",
      "Iter 0006 Log-likely: x =   -12354.4, w =      -38.8, tot =   -12393.2\n",
      "Iter 0007: Sampling z\n",
      "Iter 0007: Sampling y|r\n",
      "Iter 0007: Updating spatial params\n",
      "Iter 0007: Computing log-likelihood\n",
      "Iter 0007 Log-likely: x =   -12216.4, w =      -34.3, tot =   -12250.7\n",
      "Iter 0008: Sampling z\n",
      "Iter 0008: Sampling y|r\n",
      "Iter 0008: Updating spatial params\n",
      "Iter 0008: Computing log-likelihood\n",
      "Iter 0008 Log-likely: x =   -12225.6, w =      -30.4, tot =   -12256.0\n",
      "Iter 0009: Sampling z\n",
      "Iter 0009: Sampling y|r\n",
      "Iter 0009: Updating spatial params\n",
      "Iter 0009: Computing log-likelihood\n",
      "Iter 0009 Log-likely: x =   -12248.2, w =      -25.6, tot =   -12273.8\n",
      "Iter 0010: Sampling z\n",
      "Iter 0010: Sampling y|r\n",
      "Iter 0010: Updating spatial params\n",
      "Iter 0010: Computing log-likelihood\n",
      "Iter 0010 Log-likely: x =   -12260.4, w =      -26.8, tot =   -12287.2\n",
      "Iter 0011: Sampling z\n",
      "Iter 0011: Sampling y|r\n",
      "Iter 0011: Updating spatial params\n",
      "Iter 0011: Computing log-likelihood\n",
      "Iter 0011 Log-likely: x =   -12190.3, w =      -26.2, tot =   -12216.5\n",
      "Iter 0012: Sampling z\n",
      "Iter 0012: Sampling y|r\n",
      "Iter 0012: Updating spatial params\n",
      "Iter 0012: Computing log-likelihood\n",
      "Iter 0012 Log-likely: x =   -12155.6, w =      -26.7, tot =   -12182.3\n",
      "Iter 0013: Sampling z\n",
      "Iter 0013: Sampling y|r\n",
      "Iter 0013: Updating spatial params\n",
      "Iter 0013: Computing log-likelihood\n",
      "Iter 0013 Log-likely: x =   -12130.9, w =      -26.4, tot =   -12157.3\n",
      "Iter 0014: Sampling z\n",
      "Iter 0014: Sampling y|r\n",
      "Iter 0014: Updating spatial params\n",
      "Iter 0014: Computing log-likelihood\n",
      "Iter 0014 Log-likely: x =   -12111.6, w =      -25.4, tot =   -12137.0\n",
      "Iter 0015: Sampling z\n",
      "Iter 0015: Sampling y|r\n",
      "Iter 0015: Updating spatial params\n",
      "Iter 0015: Computing log-likelihood\n",
      "Iter 0015 Log-likely: x =   -12093.3, w =      -28.0, tot =   -12121.3\n",
      "Iter 0016: Sampling z\n",
      "Iter 0016: Sampling y|r\n",
      "Iter 0016: Updating spatial params\n",
      "Iter 0016: Computing log-likelihood\n",
      "Iter 0016 Log-likely: x =   -12055.5, w =      -27.6, tot =   -12083.1\n",
      "Iter 0017: Sampling z\n",
      "Iter 0017: Sampling y|r\n",
      "Iter 0017: Updating spatial params\n",
      "Iter 0017: Computing log-likelihood\n",
      "Iter 0017 Log-likely: x =   -12080.5, w =      -26.6, tot =   -12107.1\n",
      "Iter 0018: Sampling z\n",
      "Iter 0018: Sampling y|r\n",
      "Iter 0018: Updating spatial params\n",
      "Iter 0018: Computing log-likelihood\n",
      "Iter 0018 Log-likely: x =   -12057.0, w =      -26.6, tot =   -12083.5\n",
      "Iter 0019: Sampling z\n",
      "Iter 0019: Sampling y|r\n",
      "Iter 0019: Updating spatial params\n",
      "Iter 0019: Computing log-likelihood\n",
      "Iter 0019 Log-likely: x =   -12025.0, w =      -27.3, tot =   -12052.3\n",
      "Iter 0020: Sampling z\n",
      "Iter 0020: Sampling y|r\n",
      "Iter 0020: Updating spatial params\n",
      "Iter 0020: Computing log-likelihood\n",
      "Iter 0020 Log-likely: x =   -12031.9, w =      -29.8, tot =   -12061.7\n",
      "Iter 0021: Sampling z\n",
      "Iter 0021: Sampling y|r\n",
      "Iter 0021: Updating spatial params\n",
      "Iter 0021: Computing log-likelihood\n",
      "Iter 0021 Log-likely: x =   -12058.0, w =      -27.1, tot =   -12085.0\n",
      "Iter 0022: Sampling z\n",
      "Iter 0022: Sampling y|r\n",
      "Iter 0022: Updating spatial params\n",
      "Iter 0022: Computing log-likelihood\n",
      "Iter 0022 Log-likely: x =   -12083.6, w =      -26.2, tot =   -12109.8\n",
      "Iter 0023: Sampling z\n",
      "Iter 0023: Sampling y|r\n",
      "Iter 0023: Updating spatial params\n",
      "Iter 0023: Computing log-likelihood\n",
      "Iter 0023 Log-likely: x =   -12097.7, w =      -25.9, tot =   -12123.5\n",
      "Iter 0024: Sampling z\n",
      "Iter 0024: Sampling y|r\n",
      "Iter 0024: Updating spatial params\n",
      "Iter 0024: Computing log-likelihood\n",
      "Iter 0024 Log-likely: x =   -12056.4, w =      -25.5, tot =   -12081.9\n",
      "Iter 0025: Sampling z\n",
      "Iter 0025: Sampling y|r\n",
      "Iter 0025: Updating spatial params\n",
      "Iter 0025: Computing log-likelihood\n",
      "Iter 0025 Log-likely: x =   -12113.1, w =      -32.6, tot =   -12145.7\n"
     ]
    }
   ],
   "source": [
    "model = Model(dataset, n_topics=2, n_regions=1, symmetric=False,\n",
    "              alpha=.1, beta=.01, gamma=.01, delta=1.0,\n",
    "              dobs=25, roi_size=50.0, seed_init=1)\n",
    "model.initialize()\n",
    "for i in range(25):\n",
    "    model.run_complete_iteration()\n",
    "model.save(join(out_dir, 'gclda_model.pkl'))"
   ]
  }
 ],
 "metadata": {
  "anaconda-cloud": {},
  "kernelspec": {
   "display_name": "Python [default]",
   "language": "python",
   "name": "python2"
  },
  "language_info": {
   "codemirror_mode": {
    "name": "ipython",
    "version": 2
   },
   "file_extension": ".py",
   "mimetype": "text/x-python",
   "name": "python",
   "nbconvert_exporter": "python",
   "pygments_lexer": "ipython2",
   "version": "2.7.12"
  }
 },
 "nbformat": 4,
 "nbformat_minor": 1
}
